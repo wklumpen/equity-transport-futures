{
 "cells": [
  {
   "cell_type": "markdown",
   "metadata": {},
   "source": [
    "# Equity of Induced Transit Trips\n",
    "\n",
    "In this workbook we analyze how changes in travel time and demand brought on by the introduciton of additional transit infrastructure is distributed accross populations.\n",
    "\n",
    "First, we set up our modules and load the appropriate data:"
   ]
  },
  {
   "cell_type": "code",
   "execution_count": 1,
   "metadata": {},
   "outputs": [],
   "source": [
    "import os\n",
    "import pandas as pd\n",
    "import altair as alt\n",
    "import numpy as np\n",
    "\n",
    "# Replace with your data folder paths\n",
    "mx_folder = r\"data/matrices/input\"\n",
    "counts_folder = r\"data/counts/input\"\n",
    "link_folder = r\"data/counts/interim\"\n",
    "output_folder = r\"data/counts/output\""
   ]
  },
  {
   "cell_type": "markdown",
   "metadata": {},
   "source": [
    "As we load in our dataset, let's sum demand by each origin and display the total differences in transit trips made to learn about how much is induced:"
   ]
  },
  {
   "cell_type": "code",
   "execution_count": 8,
   "metadata": {},
   "outputs": [
    {
     "name": "stdout",
     "output_type": "stream",
     "text": [
      "Scenario A: 13733.152638852596 extra demand\n",
      "Scenario B: 4025.5698905665195 extra demand\n",
      "Scenario C: 2771.1263431145344 extra demand\n"
     ]
    }
   ],
   "source": [
    "dtypes = {'i':int, 'j':int, 'travel_time':float, 'demand':float}\n",
    "mx_BAU = pd.read_csv(os.path.join(mx_folder, 'bau_times_flows.csv'), dtype=dtypes)[['i', 'demand']].groupby('i', as_index=False).sum()\n",
    "mx_A = pd.read_csv(os.path.join(mx_folder, 'scenario_A_times_flows.csv'), dtype=dtypes)[['i', 'demand']].groupby('i', as_index=False).sum()\n",
    "mx_B = pd.read_csv(os.path.join(mx_folder, 'scenario_B_times_flows.csv'), dtype=dtypes)[['i', 'demand']].groupby('i', as_index=False).sum()\n",
    "mx_C = pd.read_csv(os.path.join(mx_folder, 'scenario_C_times_flows.csv'), dtype=dtypes)[['i', 'demand']].groupby('i', as_index=False).sum()\n",
    "\n",
    "print(\"Scenario A:\", (mx_A.demand.sum()-mx_BAU.demand.sum()), \"extra demand\")\n",
    "print(\"Scenario B:\", (mx_B.demand.sum()-mx_BAU.demand.sum()), \"extra demand\")\n",
    "print(\"Scenario C:\", (mx_C.demand.sum()-mx_BAU.demand.sum()), \"extra demand\")"
   ]
  },
  {
   "cell_type": "markdown",
   "metadata": {},
   "source": [
    "Since we are using induced trips directly, we can join together our demand data for each scenario and calculate the deltas:"
   ]
  },
  {
   "cell_type": "code",
   "execution_count": 16,
   "metadata": {},
   "outputs": [],
   "source": [
    "delta = pd.merge(mx_BAU[['i', 'demand']], mx_A[['i', 'demand']], on='i')\n",
    "delta.columns = ['i', 'demand_BAU', 'demand_A']\n",
    "delta = pd.merge(delta, mx_B[['i', 'demand']], on='i')\n",
    "delta.columns = ['i', 'demand_BAU', 'demand_A', 'demand_B']\n",
    "delta = pd.merge(delta, mx_C[['i', 'demand']], on='i')\n",
    "delta.columns = ['i', 'demand_BAU', 'demand_A', 'demand_B', 'demand_C']\n",
    "\n",
    "delta['delta_A'] = delta['demand_A'] - delta['demand_BAU']\n",
    "delta['delta_B'] = delta['demand_B'] - delta['demand_BAU']\n",
    "delta['delta_C'] = delta['demand_C'] - delta['demand_BAU']\n",
    "delta.head()\n",
    "\n",
    "# Write the file for mapping\n",
    "delta.to_csv(os.path.join(output_folder, 'trips_added.csv'), index=False)"
   ]
  },
  {
   "cell_type": "markdown",
   "metadata": {},
   "source": [
    "Finally, we can load in our demographic data and calculate the distributions of the score across various demographic groups"
   ]
  },
  {
   "cell_type": "code",
   "execution_count": 17,
   "metadata": {},
   "outputs": [],
   "source": [
    "taz_da = pd.read_csv(os.path.join(link_folder, 'taz_da_link.csv'), dtype={'DAUID': int, 'taz_id': int, 'frac_da_in_taz': float})\n",
    "da_demo = pd.read_csv(os.path.join(counts_folder, 'da_census_profile.csv'))\n",
    "delta_demo = pd.merge(delta, taz_da, left_on='i', right_on='taz_id')\n",
    "delta_demo = pd.merge(delta_demo, da_demo, on='DAUID')\n",
    "delta_da = delta_demo[delta_demo.columns[-11:-1]].multiply(delta_demo['frac_da_in_taz'], axis=\"index\")\n",
    "delta_da.columns = [f\"f_{c}\" for c in delta_da.columns]\n",
    "delta_demo = pd.concat([delta_demo[['delta_A', 'delta_B', 'delta_C']], delta_da], axis=1)\n",
    "\n",
    "# Now we do the weighted summary\n",
    "delta_demo['A_pop_2016'] = (delta_demo['f_pop_2016']/delta_demo['f_pop_2016'].sum())*delta_demo['delta_A']\n",
    "delta_demo['A_vm_minority'] = (delta_demo['f_vm_minority']/delta_demo['f_vm_minority'].sum())*delta_demo['delta_A']\n",
    "delta_demo['A_income_lim'] = (delta_demo['f_income_lim']/delta_demo['f_income_lim'].sum())*delta_demo['delta_A']\n",
    "delta_demo['A_labour_unemployed'] = (delta_demo['f_labour_unemployed']/delta_demo['f_labour_unemployed'].sum())*delta_demo['delta_A']\n",
    "\n",
    "delta_demo['B_pop_2016'] = (delta_demo['f_pop_2016']/delta_demo['f_pop_2016'].sum())*delta_demo['delta_B']\n",
    "delta_demo['B_vm_minority'] = (delta_demo['f_vm_minority']/delta_demo['f_vm_minority'].sum())*delta_demo['delta_B']\n",
    "delta_demo['B_income_lim'] = (delta_demo['f_income_lim']/delta_demo['f_income_lim'].sum())*delta_demo['delta_B']\n",
    "delta_demo['B_labour_unemployed'] = (delta_demo['f_labour_unemployed']/delta_demo['f_labour_unemployed'].sum())*delta_demo['delta_B']\n",
    "\n",
    "delta_demo['C_pop_2016'] = (delta_demo['f_pop_2016']/delta_demo['f_pop_2016'].sum())*delta_demo['delta_C']\n",
    "delta_demo['C_vm_minority'] = (delta_demo['f_vm_minority']/delta_demo['f_vm_minority'].sum())*delta_demo['delta_C']\n",
    "delta_demo['C_income_lim'] = (delta_demo['f_income_lim']/delta_demo['f_income_lim'].sum())*delta_demo['delta_C']\n",
    "delta_demo['C_labour_unemployed'] = (delta_demo['f_labour_unemployed']/delta_demo['f_labour_unemployed'].sum())*delta_demo['delta_C']"
   ]
  },
  {
   "cell_type": "markdown",
   "metadata": {},
   "source": [
    "Finally, we assemble our data into a plottable form and generate plots."
   ]
  },
  {
   "cell_type": "code",
   "execution_count": 18,
   "metadata": {},
   "outputs": [
    {
     "data": {
      "text/html": [
       "<div>\n",
       "<style scoped>\n",
       "    .dataframe tbody tr th:only-of-type {\n",
       "        vertical-align: middle;\n",
       "    }\n",
       "\n",
       "    .dataframe tbody tr th {\n",
       "        vertical-align: top;\n",
       "    }\n",
       "\n",
       "    .dataframe thead th {\n",
       "        text-align: right;\n",
       "    }\n",
       "</style>\n",
       "<table border=\"1\" class=\"dataframe\">\n",
       "  <thead>\n",
       "    <tr style=\"text-align: right;\">\n",
       "      <th></th>\n",
       "      <th>variable</th>\n",
       "      <th>value</th>\n",
       "      <th>scenario</th>\n",
       "      <th>demographic</th>\n",
       "      <th>demo_name</th>\n",
       "    </tr>\n",
       "  </thead>\n",
       "  <tbody>\n",
       "    <tr>\n",
       "      <th>0</th>\n",
       "      <td>A_income_lim</td>\n",
       "      <td>34.844541</td>\n",
       "      <td>A</td>\n",
       "      <td>income_lim</td>\n",
       "      <td>Low Income (LIM)</td>\n",
       "    </tr>\n",
       "    <tr>\n",
       "      <th>1</th>\n",
       "      <td>A_labour_unemployed</td>\n",
       "      <td>34.532953</td>\n",
       "      <td>A</td>\n",
       "      <td>labour_unemployed</td>\n",
       "      <td>Unemployed</td>\n",
       "    </tr>\n",
       "    <tr>\n",
       "      <th>2</th>\n",
       "      <td>A_pop_2016</td>\n",
       "      <td>34.919018</td>\n",
       "      <td>A</td>\n",
       "      <td>pop_2016</td>\n",
       "      <td>Total Population</td>\n",
       "    </tr>\n",
       "    <tr>\n",
       "      <th>3</th>\n",
       "      <td>A_vm_minority</td>\n",
       "      <td>45.766372</td>\n",
       "      <td>A</td>\n",
       "      <td>vm_minority</td>\n",
       "      <td>Visible Minority</td>\n",
       "    </tr>\n",
       "    <tr>\n",
       "      <th>4</th>\n",
       "      <td>B_income_lim</td>\n",
       "      <td>10.212393</td>\n",
       "      <td>B</td>\n",
       "      <td>income_lim</td>\n",
       "      <td>Low Income (LIM)</td>\n",
       "    </tr>\n",
       "  </tbody>\n",
       "</table>\n",
       "</div>"
      ],
      "text/plain": [
       "              variable      value scenario        demographic  \\\n",
       "0         A_income_lim  34.844541        A         income_lim   \n",
       "1  A_labour_unemployed  34.532953        A  labour_unemployed   \n",
       "2           A_pop_2016  34.919018        A           pop_2016   \n",
       "3        A_vm_minority  45.766372        A        vm_minority   \n",
       "4         B_income_lim  10.212393        B         income_lim   \n",
       "\n",
       "          demo_name  \n",
       "0  Low Income (LIM)  \n",
       "1        Unemployed  \n",
       "2  Total Population  \n",
       "3  Visible Minority  \n",
       "4  Low Income (LIM)  "
      ]
     },
     "execution_count": 18,
     "metadata": {},
     "output_type": "execute_result"
    }
   ],
   "source": [
    "to_plot = delta_demo[[\n",
    "    'A_pop_2016', 'B_pop_2016', 'C_pop_2016', \n",
    "    'A_vm_minority', 'B_vm_minority', 'C_vm_minority', \n",
    "    'A_income_lim', 'B_income_lim', 'C_income_lim',\n",
    "    'A_labour_unemployed', 'B_labour_unemployed', 'C_labour_unemployed'\n",
    "    ]]\n",
    "\n",
    "pretty_names = {'income_lim': \"Low Income (LIM)\", 'pop_2016': 'Total Population', 'vm_minority': \"Visible Minority\", 'labour_unemployed':\"Unemployed\"}\n",
    "melted = to_plot.melt().groupby('variable', as_index=False).sum()\n",
    "melted['scenario'] = melted.variable.str[0]\n",
    "melted['demographic'] = melted.variable.str[2:]\n",
    "melted['demo_name'] = melted.demographic.map(pretty_names)\n",
    "melted.head()"
   ]
  },
  {
   "cell_type": "code",
   "execution_count": 20,
   "metadata": {},
   "outputs": [
    {
     "data": {
      "text/html": [
       "\n",
       "<div id=\"altair-viz-5534c45c1d1a47f0a06c6f12f897fc46\"></div>\n",
       "<script type=\"text/javascript\">\n",
       "  var VEGA_DEBUG = (typeof VEGA_DEBUG == \"undefined\") ? {} : VEGA_DEBUG;\n",
       "  (function(spec, embedOpt){\n",
       "    let outputDiv = document.currentScript.previousElementSibling;\n",
       "    if (outputDiv.id !== \"altair-viz-5534c45c1d1a47f0a06c6f12f897fc46\") {\n",
       "      outputDiv = document.getElementById(\"altair-viz-5534c45c1d1a47f0a06c6f12f897fc46\");\n",
       "    }\n",
       "    const paths = {\n",
       "      \"vega\": \"https://cdn.jsdelivr.net/npm//vega@5?noext\",\n",
       "      \"vega-lib\": \"https://cdn.jsdelivr.net/npm//vega-lib?noext\",\n",
       "      \"vega-lite\": \"https://cdn.jsdelivr.net/npm//vega-lite@4.17.0?noext\",\n",
       "      \"vega-embed\": \"https://cdn.jsdelivr.net/npm//vega-embed@6?noext\",\n",
       "    };\n",
       "\n",
       "    function maybeLoadScript(lib, version) {\n",
       "      var key = `${lib.replace(\"-\", \"\")}_version`;\n",
       "      return (VEGA_DEBUG[key] == version) ?\n",
       "        Promise.resolve(paths[lib]) :\n",
       "        new Promise(function(resolve, reject) {\n",
       "          var s = document.createElement('script');\n",
       "          document.getElementsByTagName(\"head\")[0].appendChild(s);\n",
       "          s.async = true;\n",
       "          s.onload = () => {\n",
       "            VEGA_DEBUG[key] = version;\n",
       "            return resolve(paths[lib]);\n",
       "          };\n",
       "          s.onerror = () => reject(`Error loading script: ${paths[lib]}`);\n",
       "          s.src = paths[lib];\n",
       "        });\n",
       "    }\n",
       "\n",
       "    function showError(err) {\n",
       "      outputDiv.innerHTML = `<div class=\"error\" style=\"color:red;\">${err}</div>`;\n",
       "      throw err;\n",
       "    }\n",
       "\n",
       "    function displayChart(vegaEmbed) {\n",
       "      vegaEmbed(outputDiv, spec, embedOpt)\n",
       "        .catch(err => showError(`Javascript Error: ${err.message}<br>This usually means there's a typo in your chart specification. See the javascript console for the full traceback.`));\n",
       "    }\n",
       "\n",
       "    if(typeof define === \"function\" && define.amd) {\n",
       "      requirejs.config({paths});\n",
       "      require([\"vega-embed\"], displayChart, err => showError(`Error loading script: ${err.message}`));\n",
       "    } else {\n",
       "      maybeLoadScript(\"vega\", \"5\")\n",
       "        .then(() => maybeLoadScript(\"vega-lite\", \"4.17.0\"))\n",
       "        .then(() => maybeLoadScript(\"vega-embed\", \"6\"))\n",
       "        .catch(showError)\n",
       "        .then(() => displayChart(vegaEmbed));\n",
       "    }\n",
       "  })({\"config\": {\"view\": {\"continuousWidth\": 400, \"continuousHeight\": 300, \"strokeWidth\": 0}, \"axis\": {\"grid\": false}, \"font\": \"Roboto\", \"title\": {\"fontSize\": 18}}, \"data\": {\"name\": \"data-0adf9ee153b550adeddba4674018fc14\"}, \"mark\": \"bar\", \"encoding\": {\"color\": {\"field\": \"scenario\", \"title\": \"Scenario\", \"type\": \"nominal\"}, \"row\": {\"field\": \"demo_name\", \"sort\": [\"Total Population\"], \"spacing\": 35, \"title\": \"\", \"type\": \"nominal\"}, \"x\": {\"field\": \"value\", \"title\": \"Average Travel Time Savings (min)\", \"type\": \"quantitative\"}, \"y\": {\"field\": \"scenario\", \"title\": null, \"type\": \"nominal\"}}, \"height\": 80, \"title\": \"Average Additional Transit Trips Induced for SmartTrack Scenarios\", \"width\": 600, \"$schema\": \"https://vega.github.io/schema/vega-lite/v4.17.0.json\", \"datasets\": {\"data-0adf9ee153b550adeddba4674018fc14\": [{\"variable\": \"A_income_lim\", \"value\": 34.844540918247986, \"scenario\": \"A\", \"demographic\": \"income_lim\", \"demo_name\": \"Low Income (LIM)\"}, {\"variable\": \"A_labour_unemployed\", \"value\": 34.53295272247571, \"scenario\": \"A\", \"demographic\": \"labour_unemployed\", \"demo_name\": \"Unemployed\"}, {\"variable\": \"A_pop_2016\", \"value\": 34.91901844400731, \"scenario\": \"A\", \"demographic\": \"pop_2016\", \"demo_name\": \"Total Population\"}, {\"variable\": \"A_vm_minority\", \"value\": 45.766371943371766, \"scenario\": \"A\", \"demographic\": \"vm_minority\", \"demo_name\": \"Visible Minority\"}, {\"variable\": \"B_income_lim\", \"value\": 10.212393076348722, \"scenario\": \"B\", \"demographic\": \"income_lim\", \"demo_name\": \"Low Income (LIM)\"}, {\"variable\": \"B_labour_unemployed\", \"value\": 10.120290029098925, \"scenario\": \"B\", \"demographic\": \"labour_unemployed\", \"demo_name\": \"Unemployed\"}, {\"variable\": \"B_pop_2016\", \"value\": 10.739188005995342, \"scenario\": \"B\", \"demographic\": \"pop_2016\", \"demo_name\": \"Total Population\"}, {\"variable\": \"B_vm_minority\", \"value\": 12.714392376765241, \"scenario\": \"B\", \"demographic\": \"vm_minority\", \"demo_name\": \"Visible Minority\"}, {\"variable\": \"C_income_lim\", \"value\": 6.229342563126877, \"scenario\": \"C\", \"demographic\": \"income_lim\", \"demo_name\": \"Low Income (LIM)\"}, {\"variable\": \"C_labour_unemployed\", \"value\": 6.09881664213592, \"scenario\": \"C\", \"demographic\": \"labour_unemployed\", \"demo_name\": \"Unemployed\"}, {\"variable\": \"C_pop_2016\", \"value\": 6.715763208474574, \"scenario\": \"C\", \"demographic\": \"pop_2016\", \"demo_name\": \"Total Population\"}, {\"variable\": \"C_vm_minority\", \"value\": 6.037544715849279, \"scenario\": \"C\", \"demographic\": \"vm_minority\", \"demo_name\": \"Visible Minority\"}]}}, {\"mode\": \"vega-lite\"});\n",
       "</script>"
      ],
      "text/plain": [
       "alt.Chart(...)"
      ]
     },
     "execution_count": 20,
     "metadata": {},
     "output_type": "execute_result"
    }
   ],
   "source": [
    "alt.Chart(melted).mark_bar().encode(\n",
    "    alt.Y('scenario:N', title=None),\n",
    "    alt.X('value:Q', title='Average Travel Time Savings (min)'),\n",
    "    alt.Color('scenario:N', title='Scenario'),\n",
    "    alt.Row('demo_name:N', title='', sort=['Total Population'], spacing=35)\n",
    ").properties(\n",
    "    title=\"Average Additional Transit Trips Induced for SmartTrack Scenarios\",\n",
    "    width=600,\n",
    "    height=80\n",
    ").configure(font='Roboto').configure_axis(grid=False).configure_view(strokeWidth=0).configure_title(fontSize=18)"
   ]
  }
 ],
 "metadata": {
  "kernelspec": {
   "display_name": "Python 3.10.4 ('mj-equity')",
   "language": "python",
   "name": "python3"
  },
  "language_info": {
   "codemirror_mode": {
    "name": "ipython",
    "version": 3
   },
   "file_extension": ".py",
   "mimetype": "text/x-python",
   "name": "python",
   "nbconvert_exporter": "python",
   "pygments_lexer": "ipython3",
   "version": "3.10.4"
  },
  "orig_nbformat": 4,
  "vscode": {
   "interpreter": {
    "hash": "6a5dd8420472adddb7896b80d69da9d13f304a7f06dfc86b50c64c101b310d11"
   }
  }
 },
 "nbformat": 4,
 "nbformat_minor": 2
}
