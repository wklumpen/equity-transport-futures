{
 "cells": [
  {
   "cell_type": "code",
   "execution_count": 4,
   "metadata": {},
   "outputs": [],
   "source": [
    "# Shrink the matrices\n",
    "\n",
    "import pandas as pd\n",
    "import os\n",
    "\n",
    "max_id = 1000\n",
    "\n",
    "folder = \"data/matrices/input\"\n",
    "\n",
    "for f in ['bau_times_flows.csv', 'scenario_A_times_flows.csv', 'scenario_B_times_flows.csv', 'scenario_C_times_flows.csv']:\n",
    "    mx = pd.read_csv(os.path.join(folder, f))\n",
    "    mx = mx[(mx.i < max_id) & (mx.j < max_id)]\n",
    "    mx.to_csv(os.path.join(folder, f), index=False)"
   ]
  }
 ],
 "metadata": {
  "kernelspec": {
   "display_name": "Python 3.10.4 ('mj-equity')",
   "language": "python",
   "name": "python3"
  },
  "language_info": {
   "codemirror_mode": {
    "name": "ipython",
    "version": 3
   },
   "file_extension": ".py",
   "mimetype": "text/x-python",
   "name": "python",
   "nbconvert_exporter": "python",
   "pygments_lexer": "ipython3",
   "version": "3.10.4"
  },
  "orig_nbformat": 4,
  "vscode": {
   "interpreter": {
    "hash": "6a5dd8420472adddb7896b80d69da9d13f304a7f06dfc86b50c64c101b310d11"
   }
  }
 },
 "nbformat": 4,
 "nbformat_minor": 2
}
